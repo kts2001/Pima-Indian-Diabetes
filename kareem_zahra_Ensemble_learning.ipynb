{
 "cells": [
  {
   "attachments": {
    "CentennialCMYK.jpg": {
     "image/jpeg": "[encoded data removed]"
    }
   },
   "cell_type": "markdown",
   "id": "0e4fb7d1",
   "metadata": {},
   "source": [
    "![CentennialCMYK.jpg](attachment:CentennialCMYK.jpg)"
   ]
  },
  {
   "cell_type": "markdown",
   "id": "b7624a69",
   "metadata": {},
   "source": [
    "# Lab Assignment “Ensemble_learning”"
   ]
  },
  {
   "cell_type": "code",
   "execution_count": 1,
   "id": "3590984b",
   "metadata": {},
   "outputs": [],
   "source": [
    "# Importing All Libraries \n",
    "import pandas as pd\n",
    "import numpy as np\n",
    "import time\n",
    "import joblib\n",
    "import matplotlib.pyplot as plt\n",
    "import matplotlib as mpl\n",
    "import scikitplot as skplt\n",
    "import seaborn as sns\n",
    "from seaborn import pairplot, heatmap\n",
    "from scipy import stats\n",
    "from scipy import stats, special\n",
    "from sklearn.model_selection import train_test_split\n",
    "from sklearn.preprocessing import StandardScaler\n",
    "from sklearn.impute import SimpleImputer\n",
    "from sklearn.decomposition import PCA\n",
    "from sklearn.pipeline import Pipeline, make_pipeline\n",
    "from sklearn.utils import check_random_state\n",
    "from sklearn.model_selection import GridSearchCV, RandomizedSearchCV\n",
    "from sklearn.naive_bayes import MultinomialNB\n",
    "import statsmodels.formula.api as smf\n",
    "from sklearn.linear_model import LinearRegression\n",
    "from sklearn.ensemble import RandomForestClassifier, VotingClassifier\n",
    "from sklearn.tree import DecisionTreeClassifier, DecisionTreeRegressor, ExtraTreeClassifier\n",
    "from sklearn.datasets import make_classification\n",
    "from sklearn import svm, model_selection, metrics, linear_model\n",
    "from sklearn.svm import SVC \n",
    "from sklearn.feature_selection import RFE\n",
    "from sklearn.linear_model import LogisticRegression\n",
    "from sklearn.linear_model import SGDClassifier\n",
    "from sklearn.model_selection import train_test_split\n",
    "from sklearn.model_selection import cross_val_score, cross_val_predict, KFold\n",
    "from sklearn.metrics import precision_recall_curve\n",
    "from sklearn.metrics import confusion_matrix, accuracy_score , classification_report\n",
    "from sklearn.metrics import precision_score, recall_score, f1_score"
   ]
  },
  {
   "cell_type": "markdown",
   "id": "affb6287",
   "metadata": {},
   "source": [
    "### Load & check the data:"
   ]
  },
  {
   "cell_type": "markdown",
   "id": "490e9f89",
   "metadata": {},
   "source": [
    "- Pregnancies - Number of times pregnant\n",
    "\n",
    "- Glucose - Plasma glucose concentration\n",
    "\n",
    "- BloodPressure - Diastolic blood pressure (mm Hg)\n",
    "\n",
    "- SkinThickness - Triceps skin fold thickness (mm)\n",
    "\n",
    "- Insulin - 2-Hour serum insulin (mu U/ml)\n",
    "\n",
    "- BMI - Body mass index\n",
    "\n",
    "- DiabetesPedigreeFunction - Diabetes pedigree function\n",
    "\n",
    "- Age - Age (years)\n",
    "\n",
    "- Outcome - Class variable (0 or 1) - (Target variable)"
   ]
  },
  {
   "cell_type": "code",
   "execution_count": 2,
   "id": "35e736b4",
   "metadata": {},
   "outputs": [],
   "source": [
    "columns = ['Pregnancies', 'Glucose', 'BloodPressure', 'SkinThickness', 'Insulin',\n",
    "       'BMI', 'DiabetesPedigreeFunction', 'Age', 'Outcome']"
   ]
  },
  {
   "cell_type": "code",
   "execution_count": 3,
   "id": "af47c32b",
   "metadata": {},
   "outputs": [],
   "source": [
    "\n",
    "data = pd.read_csv('pima-indians-diabetes.csv', names=columns)\n",
    "\n",
    "data_kareem = pd.DataFrame(data) # Putting this all into a dataframe."
   ]
  },
  {
   "cell_type": "code",
   "execution_count": 4,
   "id": "af24653f",
   "metadata": {},
   "outputs": [
    {
     "data": {
      "text/html": [
       "<div>\n",
       "<style scoped>\n",
       "    .dataframe tbody tr th:only-of-type {\n",
       "        vertical-align: middle;\n",
       "    }\n",
       "\n",
       "    .dataframe tbody tr th {\n",
       "        vertical-align: top;\n",
       "    }\n",
       "\n",
       "    .dataframe thead th {\n",
       "        text-align: right;\n",
       "    }\n",
       "</style>\n",
       "<table border=\"1\" class=\"dataframe\">\n",
       "  <thead>\n",
       "    <tr style=\"text-align: right;\">\n",
       "      <th></th>\n",
       "      <th>Pregnancies</th>\n",
       "      <th>Glucose</th>\n",
       "      <th>BloodPressure</th>\n",
       "      <th>SkinThickness</th>\n",
       "      <th>Insulin</th>\n",
       "      <th>BMI</th>\n",
       "      <th>DiabetesPedigreeFunction</th>\n",
       "      <th>Age</th>\n",
       "      <th>Outcome</th>\n",
       "    </tr>\n",
       "  </thead>\n",
       "  <tbody>\n",
       "    <tr>\n",
       "      <th>0</th>\n",
       "      <td>6</td>\n",
       "      <td>148</td>\n",
       "      <td>72</td>\n",
       "      <td>35</td>\n",
       "      <td>0</td>\n",
       "      <td>33.6</td>\n",
       "      <td>0.627</td>\n",
       "      <td>50</td>\n",
       "      <td>1</td>\n",
       "    </tr>\n",
       "    <tr>\n",
       "      <th>1</th>\n",
       "      <td>1</td>\n",
       "      <td>85</td>\n",
       "      <td>66</td>\n",
       "      <td>29</td>\n",
       "      <td>0</td>\n",
       "      <td>26.6</td>\n",
       "      <td>0.351</td>\n",
       "      <td>31</td>\n",
       "      <td>0</td>\n",
       "    </tr>\n",
       "    <tr>\n",
       "      <th>2</th>\n",
       "      <td>8</td>\n",
       "      <td>183</td>\n",
       "      <td>64</td>\n",
       "      <td>0</td>\n",
       "      <td>0</td>\n",
       "      <td>23.3</td>\n",
       "      <td>0.672</td>\n",
       "      <td>32</td>\n",
       "      <td>1</td>\n",
       "    </tr>\n",
       "    <tr>\n",
       "      <th>3</th>\n",
       "      <td>1</td>\n",
       "      <td>89</td>\n",
       "      <td>66</td>\n",
       "      <td>23</td>\n",
       "      <td>94</td>\n",
       "      <td>28.1</td>\n",
       "      <td>0.167</td>\n",
       "      <td>21</td>\n",
       "      <td>0</td>\n",
       "    </tr>\n",
       "    <tr>\n",
       "      <th>4</th>\n",
       "      <td>0</td>\n",
       "      <td>137</td>\n",
       "      <td>40</td>\n",
       "      <td>35</td>\n",
       "      <td>168</td>\n",
       "      <td>43.1</td>\n",
       "      <td>2.288</td>\n",
       "      <td>33</td>\n",
       "      <td>1</td>\n",
       "    </tr>\n",
       "    <tr>\n",
       "      <th>...</th>\n",
       "      <td>...</td>\n",
       "      <td>...</td>\n",
       "      <td>...</td>\n",
       "      <td>...</td>\n",
       "      <td>...</td>\n",
       "      <td>...</td>\n",
       "      <td>...</td>\n",
       "      <td>...</td>\n",
       "      <td>...</td>\n",
       "    </tr>\n",
       "    <tr>\n",
       "      <th>763</th>\n",
       "      <td>10</td>\n",
       "      <td>101</td>\n",
       "      <td>76</td>\n",
       "      <td>48</td>\n",
       "      <td>180</td>\n",
       "      <td>32.9</td>\n",
       "      <td>0.171</td>\n",
       "      <td>63</td>\n",
       "      <td>0</td>\n",
       "    </tr>\n",
       "    <tr>\n",
       "      <th>764</th>\n",
       "      <td>2</td>\n",
       "      <td>122</td>\n",
       "      <td>70</td>\n",
       "      <td>27</td>\n",
       "      <td>0</td>\n",
       "      <td>36.8</td>\n",
       "      <td>0.340</td>\n",
       "      <td>27</td>\n",
       "      <td>0</td>\n",
       "    </tr>\n",
       "    <tr>\n",
       "      <th>765</th>\n",
       "      <td>5</td>\n",
       "      <td>121</td>\n",
       "      <td>72</td>\n",
       "      <td>23</td>\n",
       "      <td>112</td>\n",
       "      <td>26.2</td>\n",
       "      <td>0.245</td>\n",
       "      <td>30</td>\n",
       "      <td>0</td>\n",
       "    </tr>\n",
       "    <tr>\n",
       "      <th>766</th>\n",
       "      <td>1</td>\n",
       "      <td>126</td>\n",
       "      <td>60</td>\n",
       "      <td>0</td>\n",
       "      <td>0</td>\n",
       "      <td>30.1</td>\n",
       "      <td>0.349</td>\n",
       "      <td>47</td>\n",
       "      <td>1</td>\n",
       "    </tr>\n",
       "    <tr>\n",
       "      <th>767</th>\n",
       "      <td>1</td>\n",
       "      <td>93</td>\n",
       "      <td>70</td>\n",
       "      <td>31</td>\n",
       "      <td>0</td>\n",
       "      <td>30.4</td>\n",
       "      <td>0.315</td>\n",
       "      <td>23</td>\n",
       "      <td>0</td>\n",
       "    </tr>\n",
       "  </tbody>\n",
       "</table>\n",
       "<p>768 rows × 9 columns</p>\n",
       "</div>"
      ],
      "text/plain": [
       "     Pregnancies  Glucose  BloodPressure  SkinThickness  Insulin   BMI  \\\n",
       "0              6      148             72             35        0  33.6   \n",
       "1              1       85             66             29        0  26.6   \n",
       "2              8      183             64              0        0  23.3   \n",
       "3              1       89             66             23       94  28.1   \n",
       "4              0      137             40             35      168  43.1   \n",
       "..           ...      ...            ...            ...      ...   ...   \n",
       "763           10      101             76             48      180  32.9   \n",
       "764            2      122             70             27        0  36.8   \n",
       "765            5      121             72             23      112  26.2   \n",
       "766            1      126             60              0        0  30.1   \n",
       "767            1       93             70             31        0  30.4   \n",
       "\n",
       "     DiabetesPedigreeFunction  Age  Outcome  \n",
       "0                       0.627   50        1  \n",
       "1                       0.351   31        0  \n",
       "2                       0.672   32        1  \n",
       "3                       0.167   21        0  \n",
       "4                       2.288   33        1  \n",
       "..                        ...  ...      ...  \n",
       "763                     0.171   63        0  \n",
       "764                     0.340   27        0  \n",
       "765                     0.245   30        0  \n",
       "766                     0.349   47        1  \n",
       "767                     0.315   23        0  \n",
       "\n",
       "[768 rows x 9 columns]"
      ]
     },
     "execution_count": 4,
     "metadata": {},
     "output_type": "execute_result"
    }
   ],
   "source": [
    "data_kareem"
   ]
  },
  {
   "cell_type": "code",
   "execution_count": 5,
   "id": "75131892",
   "metadata": {},
   "outputs": [
    {
     "data": {
      "text/plain": [
       "Index(['Pregnancies', 'Glucose', 'BloodPressure', 'SkinThickness', 'Insulin',\n",
       "       'BMI', 'DiabetesPedigreeFunction', 'Age', 'Outcome'],\n",
       "      dtype='object')"
      ]
     },
     "execution_count": 5,
     "metadata": {},
     "output_type": "execute_result"
    }
   ],
   "source": [
    "data_kareem.columns   # The name of columns"
   ]
  },
  {
   "cell_type": "code",
   "execution_count": 6,
   "id": "16017a4c",
   "metadata": {},
   "outputs": [
    {
     "name": "stdout",
     "output_type": "stream",
     "text": [
      "<class 'pandas.core.frame.DataFrame'>\n",
      "RangeIndex: 768 entries, 0 to 767\n",
      "Data columns (total 9 columns):\n",
      " #   Column                    Non-Null Count  Dtype  \n",
      "---  ------                    --------------  -----  \n",
      " 0   Pregnancies               768 non-null    int64  \n",
      " 1   Glucose                   768 non-null    int64  \n",
      " 2   BloodPressure             768 non-null    int64  \n",
      " 3   SkinThickness             768 non-null    int64  \n",
      " 4   Insulin                   768 non-null    int64  \n",
      " 5   BMI                       768 non-null    float64\n",
      " 6   DiabetesPedigreeFunction  768 non-null    float64\n",
      " 7   Age                       768 non-null    int64  \n",
      " 8   Outcome                   768 non-null    int64  \n",
      "dtypes: float64(2), int64(7)\n",
      "memory usage: 54.1 KB\n"
     ]
    }
   ],
   "source": [
    "data_kareem.info()   #  Information about the data including the index dtype and columns."
   ]
  },
  {
   "cell_type": "code",
   "execution_count": 7,
   "id": "1c7489ec",
   "metadata": {},
   "outputs": [
    {
     "data": {
      "text/plain": [
       "Pregnancies                 0\n",
       "Glucose                     0\n",
       "BloodPressure               0\n",
       "SkinThickness               0\n",
       "Insulin                     0\n",
       "BMI                         0\n",
       "DiabetesPedigreeFunction    0\n",
       "Age                         0\n",
       "Outcome                     0\n",
       "dtype: int64"
      ]
     },
     "execution_count": 7,
     "metadata": {},
     "output_type": "execute_result"
    }
   ],
   "source": [
    "data_kareem.isna().sum()  # Any missing values?"
   ]
  },
  {
   "cell_type": "code",
   "execution_count": 8,
   "id": "23c2be6c",
   "metadata": {},
   "outputs": [
    {
     "data": {
      "text/plain": [
       "Pregnancies                 0\n",
       "Glucose                     0\n",
       "BloodPressure               0\n",
       "SkinThickness               0\n",
       "Insulin                     0\n",
       "BMI                         0\n",
       "DiabetesPedigreeFunction    0\n",
       "Age                         0\n",
       "Outcome                     0\n",
       "dtype: int64"
      ]
     },
     "execution_count": 8,
     "metadata": {},
     "output_type": "execute_result"
    }
   ],
   "source": [
    "data_kareem.isnull().sum()   # Any null values?"
   ]
  },
  {
   "cell_type": "code",
   "execution_count": 9,
   "id": "b036ea47",
   "metadata": {},
   "outputs": [
    {
     "data": {
      "text/plain": [
       "0"
      ]
     },
     "execution_count": 9,
     "metadata": {},
     "output_type": "execute_result"
    }
   ],
   "source": [
    "data_kareem.duplicated().sum()  # Any duplicated values?"
   ]
  },
  {
   "cell_type": "code",
   "execution_count": 10,
   "id": "81fcf697",
   "metadata": {},
   "outputs": [
    {
     "data": {
      "text/html": [
       "<div>\n",
       "<style scoped>\n",
       "    .dataframe tbody tr th:only-of-type {\n",
       "        vertical-align: middle;\n",
       "    }\n",
       "\n",
       "    .dataframe tbody tr th {\n",
       "        vertical-align: top;\n",
       "    }\n",
       "\n",
       "    .dataframe thead th {\n",
       "        text-align: right;\n",
       "    }\n",
       "</style>\n",
       "<table border=\"1\" class=\"dataframe\">\n",
       "  <thead>\n",
       "    <tr style=\"text-align: right;\">\n",
       "      <th></th>\n",
       "      <th>Pregnancies</th>\n",
       "      <th>Glucose</th>\n",
       "      <th>BloodPressure</th>\n",
       "      <th>SkinThickness</th>\n",
       "      <th>Insulin</th>\n",
       "      <th>BMI</th>\n",
       "      <th>DiabetesPedigreeFunction</th>\n",
       "      <th>Age</th>\n",
       "      <th>Outcome</th>\n",
       "    </tr>\n",
       "  </thead>\n",
       "  <tbody>\n",
       "    <tr>\n",
       "      <th>count</th>\n",
       "      <td>768.000000</td>\n",
       "      <td>768.000000</td>\n",
       "      <td>768.000000</td>\n",
       "      <td>768.000000</td>\n",
       "      <td>768.000000</td>\n",
       "      <td>768.000000</td>\n",
       "      <td>768.000000</td>\n",
       "      <td>768.000000</td>\n",
       "      <td>768.000000</td>\n",
       "    </tr>\n",
       "    <tr>\n",
       "      <th>mean</th>\n",
       "      <td>3.845052</td>\n",
       "      <td>120.894531</td>\n",
       "      <td>69.105469</td>\n",
       "      <td>20.536458</td>\n",
       "      <td>79.799479</td>\n",
       "      <td>31.992578</td>\n",
       "      <td>0.471876</td>\n",
       "      <td>33.240885</td>\n",
       "      <td>0.348958</td>\n",
       "    </tr>\n",
       "    <tr>\n",
       "      <th>std</th>\n",
       "      <td>3.369578</td>\n",
       "      <td>31.972618</td>\n",
       "      <td>19.355807</td>\n",
       "      <td>15.952218</td>\n",
       "      <td>115.244002</td>\n",
       "      <td>7.884160</td>\n",
       "      <td>0.331329</td>\n",
       "      <td>11.760232</td>\n",
       "      <td>0.476951</td>\n",
       "    </tr>\n",
       "    <tr>\n",
       "      <th>min</th>\n",
       "      <td>0.000000</td>\n",
       "      <td>0.000000</td>\n",
       "      <td>0.000000</td>\n",
       "      <td>0.000000</td>\n",
       "      <td>0.000000</td>\n",
       "      <td>0.000000</td>\n",
       "      <td>0.078000</td>\n",
       "      <td>21.000000</td>\n",
       "      <td>0.000000</td>\n",
       "    </tr>\n",
       "    <tr>\n",
       "      <th>25%</th>\n",
       "      <td>1.000000</td>\n",
       "      <td>99.000000</td>\n",
       "      <td>62.000000</td>\n",
       "      <td>0.000000</td>\n",
       "      <td>0.000000</td>\n",
       "      <td>27.300000</td>\n",
       "      <td>0.243750</td>\n",
       "      <td>24.000000</td>\n",
       "      <td>0.000000</td>\n",
       "    </tr>\n",
       "    <tr>\n",
       "      <th>50%</th>\n",
       "      <td>3.000000</td>\n",
       "      <td>117.000000</td>\n",
       "      <td>72.000000</td>\n",
       "      <td>23.000000</td>\n",
       "      <td>30.500000</td>\n",
       "      <td>32.000000</td>\n",
       "      <td>0.372500</td>\n",
       "      <td>29.000000</td>\n",
       "      <td>0.000000</td>\n",
       "    </tr>\n",
       "    <tr>\n",
       "      <th>75%</th>\n",
       "      <td>6.000000</td>\n",
       "      <td>140.250000</td>\n",
       "      <td>80.000000</td>\n",
       "      <td>32.000000</td>\n",
       "      <td>127.250000</td>\n",
       "      <td>36.600000</td>\n",
       "      <td>0.626250</td>\n",
       "      <td>41.000000</td>\n",
       "      <td>1.000000</td>\n",
       "    </tr>\n",
       "    <tr>\n",
       "      <th>max</th>\n",
       "      <td>17.000000</td>\n",
       "      <td>199.000000</td>\n",
       "      <td>122.000000</td>\n",
       "      <td>99.000000</td>\n",
       "      <td>846.000000</td>\n",
       "      <td>67.100000</td>\n",
       "      <td>2.420000</td>\n",
       "      <td>81.000000</td>\n",
       "      <td>1.000000</td>\n",
       "    </tr>\n",
       "  </tbody>\n",
       "</table>\n",
       "</div>"
      ],
      "text/plain": [
       "       Pregnancies     Glucose  BloodPressure  SkinThickness     Insulin  \\\n",
       "count   768.000000  768.000000     768.000000     768.000000  768.000000   \n",
       "mean      3.845052  120.894531      69.105469      20.536458   79.799479   \n",
       "std       3.369578   31.972618      19.355807      15.952218  115.244002   \n",
       "min       0.000000    0.000000       0.000000       0.000000    0.000000   \n",
       "25%       1.000000   99.000000      62.000000       0.000000    0.000000   \n",
       "50%       3.000000  117.000000      72.000000      23.000000   30.500000   \n",
       "75%       6.000000  140.250000      80.000000      32.000000  127.250000   \n",
       "max      17.000000  199.000000     122.000000      99.000000  846.000000   \n",
       "\n",
       "              BMI  DiabetesPedigreeFunction         Age     Outcome  \n",
       "count  768.000000                768.000000  768.000000  768.000000  \n",
       "mean    31.992578                  0.471876   33.240885    0.348958  \n",
       "std      7.884160                  0.331329   11.760232    0.476951  \n",
       "min      0.000000                  0.078000   21.000000    0.000000  \n",
       "25%     27.300000                  0.243750   24.000000    0.000000  \n",
       "50%     32.000000                  0.372500   29.000000    0.000000  \n",
       "75%     36.600000                  0.626250   41.000000    1.000000  \n",
       "max     67.100000                  2.420000   81.000000    1.000000  "
      ]
     },
     "execution_count": 10,
     "metadata": {},
     "output_type": "execute_result"
    }
   ],
   "source": [
    "data_kareem.describe(include='all')  # View statistical details."
   ]
  },
  {
   "cell_type": "code",
   "execution_count": 11,
   "id": "07501dae",
   "metadata": {},
   "outputs": [
    {
     "data": {
      "text/plain": [
       "Pregnancies                  17\n",
       "Glucose                     136\n",
       "BloodPressure                47\n",
       "SkinThickness                51\n",
       "Insulin                     186\n",
       "BMI                         248\n",
       "DiabetesPedigreeFunction    517\n",
       "Age                          52\n",
       "Outcome                       2\n",
       "dtype: int64"
      ]
     },
     "execution_count": 11,
     "metadata": {},
     "output_type": "execute_result"
    }
   ],
   "source": [
    "data_kareem.nunique() # Checking unique values"
   ]
  },
  {
   "cell_type": "code",
   "execution_count": 12,
   "id": "2ec88ac5",
   "metadata": {},
   "outputs": [
    {
     "name": "stdout",
     "output_type": "stream",
     "text": [
      "The categorical values are: \n",
      " []\n"
     ]
    }
   ],
   "source": [
    "categoricalColumns = [key for key in dict(data_kareem.dtypes)\n",
    "             if dict(data_kareem.dtypes)[key] in ['object'] ]\n",
    "print(\"The categorical values are: \\n\", categoricalColumns)\n",
    "\n",
    "# Check the categorical values"
   ]
  },
  {
   "cell_type": "code",
   "execution_count": 13,
   "id": "9f43f2ff",
   "metadata": {},
   "outputs": [
    {
     "name": "stdout",
     "output_type": "stream",
     "text": [
      "Pregnancies : \n",
      " [ 6  1  8  0  5  3 10  2  4  7  9 11 13 15 17 12 14]\n",
      "Glucose : \n",
      " [148  85 183  89 137 116  78 115 197 125 110 168 139 189 166 100 118 107\n",
      " 103 126  99 196 119 143 147  97 145 117 109 158  88  92 122 138 102  90\n",
      " 111 180 133 106 171 159 146  71 105 101 176 150  73 187  84  44 141 114\n",
      "  95 129  79   0  62 131 112 113  74  83 136  80 123  81 134 142 144  93\n",
      " 163 151  96 155  76 160 124 162 132 120 173 170 128 108 154  57 156 153\n",
      " 188 152 104  87  75 179 130 194 181 135 184 140 177 164  91 165  86 193\n",
      " 191 161 167  77 182 157 178  61  98 127  82  72 172  94 175 195  68 186\n",
      " 198 121  67 174 199  56 169 149  65 190]\n",
      "BloodPressure : \n",
      " [ 72  66  64  40  74  50   0  70  96  92  80  60  84  30  88  90  94  76\n",
      "  82  75  58  78  68 110  56  62  85  86  48  44  65 108  55 122  54  52\n",
      "  98 104  95  46 102 100  61  24  38 106 114]\n",
      "SkinThickness : \n",
      " [35 29  0 23 32 45 19 47 38 30 41 33 26 15 36 11 31 37 42 25 18 24 39 27\n",
      " 21 34 10 60 13 20 22 28 54 40 51 56 14 17 50 44 12 46 16  7 52 43 48  8\n",
      " 49 63 99]\n",
      "Insulin : \n",
      " [  0  94 168  88 543 846 175 230  83  96 235 146 115 140 110 245  54 192\n",
      " 207  70 240  82  36  23 300 342 304 142 128  38 100  90 270  71 125 176\n",
      "  48  64 228  76 220  40 152  18 135 495  37  51  99 145 225  49  50  92\n",
      " 325  63 284 119 204 155 485  53 114 105 285 156  78 130  55  58 160 210\n",
      " 318  44 190 280  87 271 129 120 478  56  32 744 370  45 194 680 402 258\n",
      " 375 150  67  57 116 278 122 545  75  74 182 360 215 184  42 132 148 180\n",
      " 205  85 231  29  68  52 255 171  73 108  43 167 249 293  66 465  89 158\n",
      "  84  72  59  81 196 415 275 165 579 310  61 474 170 277  60  14  95 237\n",
      " 191 328 250 480 265 193  79  86 326 188 106  65 166 274  77 126 330 600\n",
      " 185  25  41 272 321 144  15 183  91  46 440 159 540 200 335 387  22 291\n",
      " 392 178 127 510  16 112]\n",
      "BMI : \n",
      " [33.6 26.6 23.3 28.1 43.1 25.6 31.  35.3 30.5  0.  37.6 38.  27.1 30.1\n",
      " 25.8 30.  45.8 29.6 43.3 34.6 39.3 35.4 39.8 29.  36.6 31.1 39.4 23.2\n",
      " 22.2 34.1 36.  31.6 24.8 19.9 27.6 24.  33.2 32.9 38.2 37.1 34.  40.2\n",
      " 22.7 45.4 27.4 42.  29.7 28.  39.1 19.4 24.2 24.4 33.7 34.7 23.  37.7\n",
      " 46.8 40.5 41.5 25.  25.4 32.8 32.5 42.7 19.6 28.9 28.6 43.4 35.1 32.\n",
      " 24.7 32.6 43.2 22.4 29.3 24.6 48.8 32.4 38.5 26.5 19.1 46.7 23.8 33.9\n",
      " 20.4 28.7 49.7 39.  26.1 22.5 39.6 29.5 34.3 37.4 33.3 31.2 28.2 53.2\n",
      " 34.2 26.8 55.  42.9 34.5 27.9 38.3 21.1 33.8 30.8 36.9 39.5 27.3 21.9\n",
      " 40.6 47.9 50.  25.2 40.9 37.2 44.2 29.9 31.9 28.4 43.5 32.7 67.1 45.\n",
      " 34.9 27.7 35.9 22.6 33.1 30.4 52.3 24.3 22.9 34.8 30.9 40.1 23.9 37.5\n",
      " 35.5 42.8 42.6 41.8 35.8 37.8 28.8 23.6 35.7 36.7 45.2 44.  46.2 35.\n",
      " 43.6 44.1 18.4 29.2 25.9 32.1 36.3 40.  25.1 27.5 45.6 27.8 24.9 25.3\n",
      " 37.9 27.  26.  38.7 20.8 36.1 30.7 32.3 52.9 21.  39.7 25.5 26.2 19.3\n",
      " 38.1 23.5 45.5 23.1 39.9 36.8 21.8 41.  42.2 34.4 27.2 36.5 29.8 39.2\n",
      " 38.4 36.2 48.3 20.  22.3 45.7 23.7 22.1 42.1 42.4 18.2 26.4 45.3 37.\n",
      " 24.5 32.2 59.4 21.2 26.7 30.2 46.1 41.3 38.8 35.2 42.3 40.7 46.5 33.5\n",
      " 37.3 30.3 26.3 21.7 36.4 28.5 26.9 38.6 31.3 19.5 20.1 40.8 23.4 28.3\n",
      " 38.9 57.3 35.6 49.6 44.6 24.1 44.5 41.2 49.3 46.3]\n",
      "DiabetesPedigreeFunction : \n",
      " [0.627 0.351 0.672 0.167 2.288 0.201 0.248 0.134 0.158 0.232 0.191 0.537\n",
      " 1.441 0.398 0.587 0.484 0.551 0.254 0.183 0.529 0.704 0.388 0.451 0.263\n",
      " 0.205 0.257 0.487 0.245 0.337 0.546 0.851 0.267 0.188 0.512 0.966 0.42\n",
      " 0.665 0.503 1.39  0.271 0.696 0.235 0.721 0.294 1.893 0.564 0.586 0.344\n",
      " 0.305 0.491 0.526 0.342 0.467 0.718 0.962 1.781 0.173 0.304 0.27  0.699\n",
      " 0.258 0.203 0.855 0.845 0.334 0.189 0.867 0.411 0.583 0.231 0.396 0.14\n",
      " 0.391 0.37  0.307 0.102 0.767 0.237 0.227 0.698 0.178 0.324 0.153 0.165\n",
      " 0.443 0.261 0.277 0.761 0.255 0.13  0.323 0.356 0.325 1.222 0.179 0.262\n",
      " 0.283 0.93  0.801 0.207 0.287 0.336 0.247 0.199 0.543 0.192 0.588 0.539\n",
      " 0.22  0.654 0.223 0.759 0.26  0.404 0.186 0.278 0.496 0.452 0.403 0.741\n",
      " 0.361 1.114 0.457 0.647 0.088 0.597 0.532 0.703 0.159 0.268 0.286 0.318\n",
      " 0.272 0.572 0.096 1.4   0.218 0.085 0.399 0.432 1.189 0.687 0.137 0.637\n",
      " 0.833 0.229 0.817 0.204 0.368 0.743 0.722 0.256 0.709 0.471 0.495 0.18\n",
      " 0.542 0.773 0.678 0.719 0.382 0.319 0.19  0.956 0.084 0.725 0.299 0.244\n",
      " 0.745 0.615 1.321 0.64  0.142 0.374 0.383 0.578 0.136 0.395 0.187 0.905\n",
      " 0.15  0.874 0.236 0.787 0.407 0.605 0.151 0.289 0.355 0.29  0.375 0.164\n",
      " 0.431 0.742 0.514 0.464 1.224 1.072 0.805 0.209 0.666 0.101 0.198 0.652\n",
      " 2.329 0.089 0.645 0.238 0.394 0.293 0.479 0.686 0.831 0.582 0.446 0.402\n",
      " 1.318 0.329 1.213 0.427 0.282 0.143 0.38  0.284 0.249 0.926 0.557 0.092\n",
      " 0.655 1.353 0.612 0.2   0.226 0.997 0.933 1.101 0.078 0.24  1.136 0.128\n",
      " 0.422 0.251 0.677 0.296 0.454 0.744 0.881 0.28  0.259 0.619 0.808 0.34\n",
      " 0.434 0.757 0.613 0.692 0.52  0.412 0.84  0.839 0.156 0.215 0.326 1.391\n",
      " 0.875 0.313 0.433 0.626 1.127 0.315 0.345 0.129 0.527 0.197 0.731 0.148\n",
      " 0.123 0.127 0.122 1.476 0.166 0.932 0.343 0.893 0.331 0.472 0.673 0.389\n",
      " 0.485 0.349 0.279 0.346 0.252 0.243 0.58  0.559 0.302 0.569 0.378 0.385\n",
      " 0.499 0.306 0.234 2.137 1.731 0.545 0.225 0.816 0.528 0.509 1.021 0.821\n",
      " 0.947 1.268 0.221 0.66  0.239 0.949 0.444 0.463 0.803 1.6   0.944 0.196\n",
      " 0.241 0.161 0.135 0.376 1.191 0.702 0.674 1.076 0.534 1.095 0.554 0.624\n",
      " 0.219 0.507 0.561 0.421 0.516 0.264 0.328 0.233 0.108 1.138 0.147 0.727\n",
      " 0.435 0.497 0.23  0.955 2.42  0.658 0.33  0.51  0.285 0.415 0.381 0.832\n",
      " 0.498 0.212 0.364 1.001 0.46  0.733 0.416 0.705 1.022 0.269 0.6   0.571\n",
      " 0.607 0.17  0.21  0.126 0.711 0.466 0.162 0.419 0.63  0.365 0.536 1.159\n",
      " 0.629 0.292 0.145 1.144 0.174 0.547 0.163 0.738 0.314 0.968 0.409 0.297\n",
      " 0.525 0.154 0.771 0.107 0.493 0.717 0.917 0.501 1.251 0.735 0.804 0.661\n",
      " 0.549 0.825 0.423 1.034 0.16  0.341 0.68  0.591 0.3   0.121 0.502 0.401\n",
      " 0.601 0.748 0.338 0.43  0.892 0.813 0.693 0.575 0.371 0.206 0.417 1.154\n",
      " 0.925 0.175 1.699 0.682 0.194 0.4   0.1   1.258 0.482 0.138 0.593 0.878\n",
      " 0.157 1.282 0.141 0.246 1.698 1.461 0.347 0.362 0.393 0.144 0.732 0.115\n",
      " 0.465 0.649 0.871 0.149 0.695 0.303 0.61  0.73  0.447 0.455 0.133 0.155\n",
      " 1.162 1.292 0.182 1.394 0.217 0.631 0.88  0.614 0.332 0.366 0.181 0.828\n",
      " 0.335 0.856 0.886 0.439 0.253 0.598 0.904 0.483 0.565 0.118 0.177 0.176\n",
      " 0.295 0.441 0.352 0.826 0.97  0.595 0.317 0.265 0.646 0.426 0.56  0.515\n",
      " 0.453 0.785 0.734 1.174 0.488 0.358 1.096 0.408 1.182 0.222 1.057 0.766\n",
      " 0.171]\n",
      "Age : \n",
      " [50 31 32 21 33 30 26 29 53 54 34 57 59 51 27 41 43 22 38 60 28 45 35 46\n",
      " 56 37 48 40 25 24 58 42 44 39 36 23 61 69 62 55 65 47 52 66 49 63 67 72\n",
      " 81 64 70 68]\n",
      "Outcome : \n",
      " [1 0]\n"
     ]
    }
   ],
   "source": [
    "for i in data_kareem:\n",
    "    print(i,':','\\n' ,data_kareem[i].unique())\n",
    "    \n",
    "# total number of instances in each class"
   ]
  },
  {
   "cell_type": "code",
   "execution_count": 14,
   "id": "da2d5a64",
   "metadata": {},
   "outputs": [
    {
     "name": "stdout",
     "output_type": "stream",
     "text": [
      "Total number of instances in Outcome class :  500  non diabetic patients\n",
      "Total number of instances in Outcome class :  268  diabetic patients\n"
     ]
    }
   ],
   "source": [
    "print(\"Total number of instances in Outcome class : \",len(data_kareem[data_kareem['Outcome']==0]), ' non diabetic patients')\n",
    "print(\"Total number of instances in Outcome class : \",len(data_kareem[data_kareem['Outcome']==1]), ' diabetic patients')\n",
    "\n",
    "# Check for the balanced and unbalanced class"
   ]
  },
  {
   "cell_type": "code",
   "execution_count": 15,
   "id": "ba3a59c9",
   "metadata": {},
   "outputs": [
    {
     "data": {
      "image/png": "[encoded data removed]",
      "text/plain": [
       "<Figure size 720x360 with 2 Axes>"
      ]
     },
     "metadata": {
      "needs_background": "light"
     },
     "output_type": "display_data"
    }
   ],
   "source": [
    "plt.figure(figsize=(10,5)) \n",
    "sns.heatmap(data_kareem.corr(), annot=True)\n",
    "plt.show()\n",
    "\n",
    "# Visulazing the correlation on a heatmap."
   ]
  },
  {
   "cell_type": "code",
   "execution_count": 16,
   "id": "ff3c0566",
   "metadata": {},
   "outputs": [
    {
     "name": "stderr",
     "output_type": "stream",
     "text": [
      "D:\\Goals\\DATA\\Anaconda\\lib\\site-packages\\seaborn\\_decorators.py:36: FutureWarning: Pass the following variable as a keyword arg: x. From version 0.12, the only valid positional argument will be `data`, and passing other arguments without an explicit keyword will result in an error or misinterpretation.\n",
      "  warnings.warn(\n"
     ]
    },
    {
     "data": {
      "image/png": "[encoded data removed]",
      "text/plain": [
       "<Figure size 432x288 with 1 Axes>"
      ]
     },
     "metadata": {
      "needs_background": "light"
     },
     "output_type": "display_data"
    }
   ],
   "source": [
    "sns.countplot(data_kareem['Outcome'], label=\"count\")\n",
    "plt.legend(['Not Diabetic', 'Diabetic'])\n",
    "plt.xlabel('Outcome Classification')\n",
    "plt.show()\n",
    "\n",
    "# Class distribution by counts of Pateint who are not diabetic(0) and diabetic(1)"
   ]
  },
  {
   "cell_type": "markdown",
   "id": "ba13487a",
   "metadata": {},
   "source": [
    "## Pre-process and prepare the data for machine learning "
   ]
  },
  {
   "cell_type": "code",
   "execution_count": 17,
   "id": "e297bec7",
   "metadata": {},
   "outputs": [],
   "source": [
    "# separating features from target\n",
    "\n",
    "X = data_kareem.drop('Outcome', axis=1)\n",
    "y = data_kareem['Outcome']"
   ]
  },
  {
   "cell_type": "code",
   "execution_count": 18,
   "id": "d8ca661b",
   "metadata": {},
   "outputs": [],
   "source": [
    "# standard scaler transformer to transform all the numeric values\n",
    "\n",
    "scaler = StandardScaler()\n",
    "transformer_kareem = scaler.fit_transform(data_kareem)"
   ]
  },
  {
   "cell_type": "code",
   "execution_count": 19,
   "id": "1daa3cf6",
   "metadata": {},
   "outputs": [],
   "source": [
    "# Converting the standardized data to dataFrame again\n",
    "\n",
    "data_kareem = pd.DataFrame(transformer_kareem)"
   ]
  },
  {
   "cell_type": "code",
   "execution_count": 20,
   "id": "e16907ae",
   "metadata": {},
   "outputs": [],
   "source": [
    "# 30% for testing and using 42 for the seed\n",
    "\n",
    "X_train_kareem, X_test_kareem, y_train_kareem, y_test_kareem = train_test_split(X, y, test_size=0.3, random_state=42)"
   ]
  },
  {
   "cell_type": "code",
   "execution_count": 21,
   "id": "e610c2ac",
   "metadata": {},
   "outputs": [
    {
     "data": {
      "text/plain": [
       "array([[-0.8362943 , -0.80005088, -0.53576428, ..., -1.06015343,\n",
       "        -0.61421636, -0.94861028],\n",
       "       [ 0.39072767, -0.49054341,  0.12804365, ...,  0.64646721,\n",
       "        -0.90973787, -0.43466673],\n",
       "       [-1.14304979,  0.43797901, -0.09322566, ...,  1.35537117,\n",
       "        -0.30699103, -0.77729576],\n",
       "       ...,\n",
       "       [ 1.92450513, -0.6143464 ,  0.90248622, ...,  1.78859026,\n",
       "         1.94892066,  0.42190587],\n",
       "       [-1.14304979,  0.62368349, -3.8548039 , ...,  1.36849903,\n",
       "        -0.77514391, -0.34900947],\n",
       "       [-1.14304979,  0.12847154,  1.45565949, ..., -1.24394334,\n",
       "        -0.60836445, -1.03426754]])"
      ]
     },
     "execution_count": 21,
     "metadata": {},
     "output_type": "execute_result"
    }
   ],
   "source": [
    "# Fitting the prepared transformer\n",
    "\n",
    "scaler.fit_transform(X_train_kareem, X_test_kareem)"
   ]
  },
  {
   "cell_type": "markdown",
   "id": "6a1b4553",
   "metadata": {},
   "source": [
    "## Exercise #1: Hard Voting"
   ]
  },
  {
   "cell_type": "code",
   "execution_count": 22,
   "id": "c36920ae",
   "metadata": {},
   "outputs": [],
   "source": [
    "# 5 classifiers\n",
    "\n",
    "log_clf_K = LogisticRegression(solver=\"lbfgs\", random_state=42, max_iter=1400)\n",
    "rf_clf_K= RandomForestClassifier(n_estimators=100, random_state=42)\n",
    "svm_clf_K= SVC(gamma=\"scale\", random_state=42)\n",
    "dt_clf_K = DecisionTreeClassifier(max_depth=3, criterion = 'entropy', random_state=42)\n",
    "et_clf_K = ExtraTreeClassifier(random_state=42)"
   ]
  },
  {
   "cell_type": "code",
   "execution_count": 23,
   "id": "25229e58",
   "metadata": {},
   "outputs": [],
   "source": [
    "# Voting classifier contain 5 classifier as estimators\n",
    "\n",
    "voting_clf = VotingClassifier(estimators=[('lr', log_clf_K), ('rf', rf_clf_K), ('svc', svm_clf_K), ('dt', dt_clf_K), \n",
    "                                          ('etc', et_clf_K)],voting='hard')"
   ]
  },
  {
   "cell_type": "code",
   "execution_count": 24,
   "id": "fadc97d3",
   "metadata": {},
   "outputs": [
    {
     "data": {
      "text/plain": [
       "VotingClassifier(estimators=[('lr',\n",
       "                              LogisticRegression(max_iter=1400,\n",
       "                                                 random_state=42)),\n",
       "                             ('rf', RandomForestClassifier(random_state=42)),\n",
       "                             ('svc', SVC(random_state=42)),\n",
       "                             ('dt',\n",
       "                              DecisionTreeClassifier(criterion='entropy',\n",
       "                                                     max_depth=3,\n",
       "                                                     random_state=42)),\n",
       "                             ('etc', ExtraTreeClassifier(random_state=42))])"
      ]
     },
     "execution_count": 24,
     "metadata": {},
     "output_type": "execute_result"
    }
   ],
   "source": [
    "# Fitting the training data to the voting classifier\n",
    "\n",
    "voting_clf.fit(X_train_kareem, y_train_kareem)"
   ]
  },
  {
   "cell_type": "code",
   "execution_count": 25,
   "id": "c92e25ed",
   "metadata": {},
   "outputs": [
    {
     "name": "stdout",
     "output_type": "stream",
     "text": [
      "LogisticRegression 0.7359307359307359\n",
      "RandomForestClassifier 0.7532467532467533\n",
      "SVC 0.7359307359307359\n",
      "DecisionTreeClassifier 0.7186147186147186\n",
      "ExtraTreeClassifier 0.6493506493506493\n",
      "VotingClassifier 0.7402597402597403\n"
     ]
    }
   ],
   "source": [
    "# Printing each classifier\n",
    "\n",
    "for clf in (log_clf_K, rf_clf_K, svm_clf_K, dt_clf_K, et_clf_K, voting_clf):\n",
    "    clf.fit(X_train_kareem, y_train_kareem)\n",
    "    y_pred = clf.predict(X_test_kareem)\n",
    "    print(clf.__class__.__name__, accuracy_score(y_test_kareem, y_pred))"
   ]
  },
  {
   "cell_type": "markdown",
   "id": "c8823509",
   "metadata": {},
   "source": [
    "## Exercise #2: Soft Voting"
   ]
  },
  {
   "cell_type": "code",
   "execution_count": 26,
   "id": "c84a5e33",
   "metadata": {},
   "outputs": [],
   "source": [
    "# 5 classifiers\n",
    "\n",
    "log_clf_K = LogisticRegression(solver=\"lbfgs\", random_state=42, max_iter=1400)\n",
    "rf_clf_K= RandomForestClassifier(n_estimators=100, random_state=42)\n",
    "svm_clf_K= SVC(gamma=\"scale\", random_state=42, probability=True)\n",
    "dt_clf_K = DecisionTreeClassifier(max_depth=3, criterion = 'entropy', random_state=42)\n",
    "et_clf_K = ExtraTreeClassifier(random_state=42)"
   ]
  },
  {
   "cell_type": "code",
   "execution_count": 27,
   "id": "27446b46",
   "metadata": {},
   "outputs": [],
   "source": [
    "# Voting classifier contain 5 classifier as estimators\n",
    "\n",
    "s_voting_clf = VotingClassifier(estimators=[('lr', log_clf_K), ('rf', rf_clf_K), ('svc', svm_clf_K), ('dt', dt_clf_K), \n",
    "                                          ('etc', et_clf_K)],voting='soft')"
   ]
  },
  {
   "cell_type": "code",
   "execution_count": 28,
   "id": "ff72b88c",
   "metadata": {},
   "outputs": [
    {
     "data": {
      "text/plain": [
       "VotingClassifier(estimators=[('lr',\n",
       "                              LogisticRegression(max_iter=1400,\n",
       "                                                 random_state=42)),\n",
       "                             ('rf', RandomForestClassifier(random_state=42)),\n",
       "                             ('svc', SVC(probability=True, random_state=42)),\n",
       "                             ('dt',\n",
       "                              DecisionTreeClassifier(criterion='entropy',\n",
       "                                                     max_depth=3,\n",
       "                                                     random_state=42)),\n",
       "                             ('etc', ExtraTreeClassifier(random_state=42))],\n",
       "                 voting='soft')"
      ]
     },
     "execution_count": 28,
     "metadata": {},
     "output_type": "execute_result"
    }
   ],
   "source": [
    "# Fitting the training data to the voting classifier\n",
    "\n",
    "s_voting_clf.fit(X_train_kareem, y_train_kareem)"
   ]
  },
  {
   "cell_type": "code",
   "execution_count": 29,
   "id": "54c405d2",
   "metadata": {},
   "outputs": [
    {
     "name": "stdout",
     "output_type": "stream",
     "text": [
      "LogisticRegression 0.7359307359307359\n",
      "RandomForestClassifier 0.7532467532467533\n",
      "SVC 0.7359307359307359\n",
      "DecisionTreeClassifier 0.7186147186147186\n",
      "ExtraTreeClassifier 0.6493506493506493\n",
      "VotingClassifier 0.7445887445887446\n"
     ]
    }
   ],
   "source": [
    "# Printing each classifier\n",
    "\n",
    "for clf in (log_clf_K, rf_clf_K, svm_clf_K, dt_clf_K, et_clf_K, s_voting_clf):\n",
    "    clf.fit(X_train_kareem, y_train_kareem)\n",
    "    y_pred = clf.predict(X_test_kareem)\n",
    "    print(clf.__class__.__name__, accuracy_score(y_test_kareem, y_pred))"
   ]
  },
  {
   "cell_type": "markdown",
   "id": "253933f3",
   "metadata": {},
   "source": [
    "## Exercise #3: Random forests & Extra Trees"
   ]
  },
  {
   "cell_type": "code",
   "execution_count": 30,
   "id": "b95e6682",
   "metadata": {},
   "outputs": [],
   "source": [
    "# Pipeline #1 for Extra Trees Classifier\n",
    "\n",
    "pipeline1_kareem = Pipeline([('scalar',StandardScaler()),('et_classifier', et_clf_K)])\n"
   ]
  },
  {
   "cell_type": "code",
   "execution_count": 31,
   "id": "d21bcc08",
   "metadata": {},
   "outputs": [],
   "source": [
    "# Pipeline #2 for Decision Trees Classifier\n",
    "\n",
    "pipeline2_kareem = Pipeline([('scalar',StandardScaler()),('dt_classifier', dt_clf_K)])\n"
   ]
  },
  {
   "cell_type": "code",
   "execution_count": 32,
   "id": "57ac74e7",
   "metadata": {},
   "outputs": [
    {
     "name": "stdout",
     "output_type": "stream",
     "text": [
      "Pipeline(steps=[('scalar', StandardScaler()),\n",
      "                ('et_classifier', ExtraTreeClassifier(random_state=42))])\n",
      "\n",
      "\n",
      "Pipeline(steps=[('scalar', StandardScaler()),\n",
      "                ('dt_classifier',\n",
      "                 DecisionTreeClassifier(criterion='entropy', max_depth=3,\n",
      "                                        random_state=42))])\n"
     ]
    }
   ],
   "source": [
    "# Fitting the original data to boht Pipelines\n",
    "\n",
    "print(pipeline1_kareem.fit(X, y))\n",
    "\n",
    "print('\\n')\n",
    "\n",
    "print(pipeline2_kareem.fit(X, y))"
   ]
  },
  {
   "cell_type": "code",
   "execution_count": 33,
   "id": "e1fad2c1",
   "metadata": {},
   "outputs": [
    {
     "name": "stdout",
     "output_type": "stream",
     "text": [
      "Accuracy of the Random Forest: 0.758 (0.058)\n",
      "\n",
      "\n",
      "Accuracy of the Extra Tree Classifier: 0.682 (0.040)\n"
     ]
    }
   ],
   "source": [
    "# 10 Fold cross validation for both classifiers \n",
    "\n",
    "kfold = model_selection.KFold(n_splits=10, random_state=42, shuffle=True)\n",
    "\n",
    "#rf_clf_K= RandomForestClassifier(n_estimators=100, random_state=42)\n",
    "#et_clf_K = ExtraTreeClassifier(random_state=42)\n",
    "\n",
    "\n",
    "#Accuracy Score\n",
    "RF = model_selection.cross_val_score(rf_clf_K, X, y, cv=kfold, scoring='accuracy')\n",
    "print(\"Accuracy of the Random Forest: %.3f (%.3f)\" % (RF.mean(), RF.std()))\n",
    "\n",
    "print('\\n')\n",
    "\n",
    "ET = model_selection.cross_val_score(et_clf_K, X, y, cv=kfold, scoring='accuracy')\n",
    "print(\"Accuracy of the Extra Tree Classifier: %.3f (%.3f)\" % (ET.mean(), ET.std()))"
   ]
  },
  {
   "cell_type": "code",
   "execution_count": 34,
   "id": "8f802914",
   "metadata": {},
   "outputs": [
    {
     "data": {
      "text/plain": [
       "0.67053998632946"
      ]
     },
     "execution_count": 34,
     "metadata": {},
     "output_type": "execute_result"
    }
   ],
   "source": [
    "# mean score evaluation for pipeline 1\n",
    "\n",
    "cross_val_score(pipeline1_kareem, X, y, cv=10, scoring='accuracy').mean()"
   ]
  },
  {
   "cell_type": "code",
   "execution_count": 35,
   "id": "d7b7647a",
   "metadata": {},
   "outputs": [
    {
     "data": {
      "text/plain": [
       "0.7382604237867396"
      ]
     },
     "execution_count": 35,
     "metadata": {},
     "output_type": "execute_result"
    }
   ],
   "source": [
    "# mean score evaluation for pipeline 2\n",
    "\n",
    "cross_val_score(pipeline2_kareem, X, y, cv=10, scoring='accuracy').mean()"
   ]
  },
  {
   "cell_type": "code",
   "execution_count": 36,
   "id": "2f47fe3b",
   "metadata": {},
   "outputs": [
    {
     "name": "stdout",
     "output_type": "stream",
     "text": [
      "Extra Tree Test Accuracy: 1.0\n",
      "Decision Tree Test Accuracy: 0.7402597402597403\n",
      "Classifier with best accuracy:Extra Tree\n",
      "\n",
      "\n",
      "Classification report of Random Forest: \n",
      "               precision    recall  f1-score   support\n",
      "\n",
      "           0       0.82      0.80      0.81       151\n",
      "           1       0.64      0.66      0.65        80\n",
      "\n",
      "    accuracy                           0.75       231\n",
      "   macro avg       0.73      0.73      0.73       231\n",
      "weighted avg       0.76      0.75      0.75       231\n",
      "\n",
      "\n",
      "\n",
      "Classification report of Extra Tree Classifier: \n",
      "               precision    recall  f1-score   support\n",
      "\n",
      "           0       0.74      0.72      0.73       151\n",
      "           1       0.49      0.53      0.51        80\n",
      "\n",
      "    accuracy                           0.65       231\n",
      "   macro avg       0.62      0.62      0.62       231\n",
      "weighted avg       0.65      0.65      0.65       231\n",
      "\n"
     ]
    }
   ],
   "source": [
    "# Predicting the test with both pipelines and Printing the classification report\n",
    "\n",
    "kareem_pipelines = [pipeline1_kareem, pipeline2_kareem]\n",
    "\n",
    "best_accuracy=0.0\n",
    "best_classifier=0\n",
    "best_pipeline=\"\"\n",
    "\n",
    "pipe_dict={0:'Extra Tree',1:'Decision Tree'}\n",
    "\n",
    "    \n",
    "for i,model in enumerate(kareem_pipelines):\n",
    "    print(\"{} Test Accuracy: {}\".format(pipe_dict[i],model.score(X_test_kareem, y_test_kareem)))\n",
    "\n",
    "for i,model in enumerate(kareem_pipelines):\n",
    "    if model.score(X_test_kareem, y_test_kareem)>best_accuracy:\n",
    "        best_accuracy=model.score(X_test_kareem, y_test_kareem)\n",
    "        best_pipeline=model\n",
    "        best_classifier=i\n",
    "print('Classifier with best accuracy:{}'.format(pipe_dict[best_classifier]))\n",
    "\n",
    "\n",
    "\n",
    "print('\\n')\n",
    "\n",
    "rf_clf_K.fit(X_train_kareem, y_train_kareem)\n",
    "predicted = rf_clf_K.predict(X_test_kareem)\n",
    "report1 = classification_report(y_test_kareem, predicted)\n",
    "print('Classification report of Random Forest:', '\\n', report1)\n",
    "\n",
    "\n",
    "print('\\n')\n",
    "\n",
    "\n",
    "\n",
    "et_clf_K.fit(X_train_kareem, y_train_kareem)\n",
    "predicted2 = et_clf_K.predict(X_test_kareem)\n",
    "report2 = classification_report(y_test_kareem, predicted2)\n",
    "print('Classification report of Extra Tree Classifier:', '\\n',  report2)"
   ]
  },
  {
   "cell_type": "markdown",
   "id": "f459ff05",
   "metadata": {},
   "source": [
    "## Exercise #4: Extra Trees and Grid search"
   ]
  },
  {
   "cell_type": "markdown",
   "id": "43b1873c",
   "metadata": {},
   "source": [
    "### Random Forest Classifier"
   ]
  },
  {
   "cell_type": "code",
   "execution_count": 37,
   "id": "66d42c40",
   "metadata": {},
   "outputs": [],
   "source": [
    "# Parameter distribution\n",
    "\n",
    "estimators = [int(x) for x in np.linspace(start = 20, stop = 3000, num = 10)]\n",
    "max_features = ['auto', 'sqrt']\n",
    "max_depth = max_depth = [int(x) for x in np.linspace(2, 1000, num = 10)]\n",
    "\n",
    "\n",
    "\n",
    "param_grid_18 = {\n",
    " 'n_estimators': estimators,\n",
    " 'max_features': max_features,\n",
    " 'max_depth': max_depth\n",
    " }"
   ]
  },
  {
   "cell_type": "code",
   "execution_count": 38,
   "id": "58fdaedb",
   "metadata": {},
   "outputs": [],
   "source": [
    "# Random search grid\n",
    "\n",
    "#rf_clf_K= RandomForestClassifier(n_estimators=100, random_state=42)\n",
    "\n",
    "\n",
    "rs_18 = RandomizedSearchCV(rf_clf_K, param_grid_18, refit=True, verbose=3, scoring='accuracy')"
   ]
  },
  {
   "cell_type": "code",
   "execution_count": 39,
   "id": "31153559",
   "metadata": {},
   "outputs": [
    {
     "name": "stdout",
     "output_type": "stream",
     "text": [
      "Fitting 5 folds for each of 10 candidates, totalling 50 fits\n",
      "[CV 1/5] END max_depth=445, max_features=sqrt, n_estimators=1675;, score=0.796 total time=   1.8s\n",
      "[CV 2/5] END max_depth=445, max_features=sqrt, n_estimators=1675;, score=0.778 total time=   1.8s\n",
      "[CV 3/5] END max_depth=445, max_features=sqrt, n_estimators=1675;, score=0.794 total time=   1.7s\n",
      "[CV 4/5] END max_depth=445, max_features=sqrt, n_estimators=1675;, score=0.710 total time=   1.8s\n",
      "[CV 5/5] END max_depth=445, max_features=sqrt, n_estimators=1675;, score=0.776 total time=   1.8s\n",
      "[CV 1/5] END max_depth=445, max_features=auto, n_estimators=351;, score=0.815 total time=   0.3s\n",
      "[CV 2/5] END max_depth=445, max_features=auto, n_estimators=351;, score=0.769 total time=   0.3s\n",
      "[CV 3/5] END max_depth=445, max_features=auto, n_estimators=351;, score=0.785 total time=   0.3s\n",
      "[CV 4/5] END max_depth=445, max_features=auto, n_estimators=351;, score=0.729 total time=   0.3s\n",
      "[CV 5/5] END max_depth=445, max_features=auto, n_estimators=351;, score=0.785 total time=   0.3s\n",
      "[CV 1/5] END max_depth=556, max_features=auto, n_estimators=682;, score=0.778 total time=   0.7s\n",
      "[CV 2/5] END max_depth=556, max_features=auto, n_estimators=682;, score=0.778 total time=   0.7s\n",
      "[CV 3/5] END max_depth=556, max_features=auto, n_estimators=682;, score=0.785 total time=   0.7s\n",
      "[CV 4/5] END max_depth=556, max_features=auto, n_estimators=682;, score=0.720 total time=   0.6s\n",
      "[CV 5/5] END max_depth=556, max_features=auto, n_estimators=682;, score=0.776 total time=   0.7s\n",
      "[CV 1/5] END max_depth=889, max_features=sqrt, n_estimators=2006;, score=0.796 total time=   2.1s\n",
      "[CV 2/5] END max_depth=889, max_features=sqrt, n_estimators=2006;, score=0.778 total time=   2.2s\n",
      "[CV 3/5] END max_depth=889, max_features=sqrt, n_estimators=2006;, score=0.785 total time=   2.2s\n",
      "[CV 4/5] END max_depth=889, max_features=sqrt, n_estimators=2006;, score=0.710 total time=   2.1s\n",
      "[CV 5/5] END max_depth=889, max_features=sqrt, n_estimators=2006;, score=0.785 total time=   2.2s\n",
      "[CV 1/5] END max_depth=2, max_features=sqrt, n_estimators=1344;, score=0.769 total time=   1.2s\n",
      "[CV 2/5] END max_depth=2, max_features=sqrt, n_estimators=1344;, score=0.750 total time=   1.2s\n",
      "[CV 3/5] END max_depth=2, max_features=sqrt, n_estimators=1344;, score=0.776 total time=   1.2s\n",
      "[CV 4/5] END max_depth=2, max_features=sqrt, n_estimators=1344;, score=0.729 total time=   1.2s\n",
      "[CV 5/5] END max_depth=2, max_features=sqrt, n_estimators=1344;, score=0.738 total time=   1.2s\n",
      "[CV 1/5] END max_depth=2, max_features=sqrt, n_estimators=2668;, score=0.769 total time=   2.4s\n",
      "[CV 2/5] END max_depth=2, max_features=sqrt, n_estimators=2668;, score=0.750 total time=   2.6s\n",
      "[CV 3/5] END max_depth=2, max_features=sqrt, n_estimators=2668;, score=0.766 total time=   2.5s\n",
      "[CV 4/5] END max_depth=2, max_features=sqrt, n_estimators=2668;, score=0.729 total time=   2.6s\n",
      "[CV 5/5] END max_depth=2, max_features=sqrt, n_estimators=2668;, score=0.757 total time=   2.4s\n",
      "[CV 1/5] END max_depth=556, max_features=sqrt, n_estimators=3000;, score=0.796 total time=   3.2s\n",
      "[CV 2/5] END max_depth=556, max_features=sqrt, n_estimators=3000;, score=0.778 total time=   3.2s\n",
      "[CV 3/5] END max_depth=556, max_features=sqrt, n_estimators=3000;, score=0.785 total time=   3.3s\n",
      "[CV 4/5] END max_depth=556, max_features=sqrt, n_estimators=3000;, score=0.720 total time=   3.4s\n",
      "[CV 5/5] END max_depth=556, max_features=sqrt, n_estimators=3000;, score=0.794 total time=   3.2s\n",
      "[CV 1/5] END max_depth=112, max_features=auto, n_estimators=682;, score=0.778 total time=   0.6s\n",
      "[CV 2/5] END max_depth=112, max_features=auto, n_estimators=682;, score=0.778 total time=   0.6s\n",
      "[CV 3/5] END max_depth=112, max_features=auto, n_estimators=682;, score=0.785 total time=   0.6s\n",
      "[CV 4/5] END max_depth=112, max_features=auto, n_estimators=682;, score=0.720 total time=   0.6s\n",
      "[CV 5/5] END max_depth=112, max_features=auto, n_estimators=682;, score=0.776 total time=   0.6s\n",
      "[CV 1/5] END max_depth=334, max_features=sqrt, n_estimators=1344;, score=0.796 total time=   1.4s\n",
      "[CV 2/5] END max_depth=334, max_features=sqrt, n_estimators=1344;, score=0.778 total time=   1.4s\n",
      "[CV 3/5] END max_depth=334, max_features=sqrt, n_estimators=1344;, score=0.794 total time=   1.4s\n",
      "[CV 4/5] END max_depth=334, max_features=sqrt, n_estimators=1344;, score=0.720 total time=   1.4s\n",
      "[CV 5/5] END max_depth=334, max_features=sqrt, n_estimators=1344;, score=0.776 total time=   1.4s\n",
      "[CV 1/5] END max_depth=667, max_features=sqrt, n_estimators=2337;, score=0.796 total time=   2.5s\n",
      "[CV 2/5] END max_depth=667, max_features=sqrt, n_estimators=2337;, score=0.778 total time=   2.5s\n",
      "[CV 3/5] END max_depth=667, max_features=sqrt, n_estimators=2337;, score=0.794 total time=   2.5s\n",
      "[CV 4/5] END max_depth=667, max_features=sqrt, n_estimators=2337;, score=0.710 total time=   2.5s\n",
      "[CV 5/5] END max_depth=667, max_features=sqrt, n_estimators=2337;, score=0.785 total time=   2.5s\n"
     ]
    }
   ],
   "source": [
    "# Fit grid search\n",
    "\n",
    "best_parameters = rs_18.fit(X_train_kareem, y_train_kareem)"
   ]
  },
  {
   "cell_type": "code",
   "execution_count": 40,
   "id": "d2f72f8a",
   "metadata": {},
   "outputs": [
    {
     "name": "stdout",
     "output_type": "stream",
     "text": [
      "{'bootstrap': True, 'ccp_alpha': 0.0, 'class_weight': None, 'criterion': 'gini', 'max_depth': 445, 'max_features': 'auto', 'max_leaf_nodes': None, 'max_samples': None, 'min_impurity_decrease': 0.0, 'min_samples_leaf': 1, 'min_samples_split': 2, 'min_weight_fraction_leaf': 0.0, 'n_estimators': 351, 'n_jobs': None, 'oob_score': False, 'random_state': 42, 'verbose': 0, 'warm_start': False}\n",
      "\n",
      "\n",
      "The mean accuracy of Random Forest Classifier is: 0.7489177489177489\n"
     ]
    }
   ],
   "source": [
    "# Accuracy score for randomized grid search \n",
    "\n",
    "print(best_parameters.best_estimator_.get_params())\n",
    "\n",
    "print('\\n')\n",
    "\n",
    "print(\"The mean accuracy of Random Forest Classifier is:\",best_parameters.score(X_test_kareem, y_test_kareem))"
   ]
  },
  {
   "cell_type": "markdown",
   "id": "180944ff",
   "metadata": {},
   "source": [
    "### Extra Tree Classifier"
   ]
  },
  {
   "cell_type": "code",
   "execution_count": 41,
   "id": "0ee1c3a2",
   "metadata": {},
   "outputs": [],
   "source": [
    "param_grid_18_1 = {'max_leaf_nodes': list(range(2, 100)), 'min_samples_split': [2, 3, 4]}"
   ]
  },
  {
   "cell_type": "code",
   "execution_count": 42,
   "id": "8cad80e0",
   "metadata": {},
   "outputs": [],
   "source": [
    "# Random search grid\n",
    "#et_clf_K = ExtraTreeClassifier(random_state=42)\n",
    "\n",
    "rs2_18 = RandomizedSearchCV(et_clf_K, param_grid_18_1, refit=True, verbose=3, scoring='accuracy')"
   ]
  },
  {
   "cell_type": "code",
   "execution_count": 43,
   "id": "b83a256d",
   "metadata": {},
   "outputs": [
    {
     "name": "stdout",
     "output_type": "stream",
     "text": [
      "Fitting 5 folds for each of 10 candidates, totalling 50 fits\n",
      "[CV 1/5] END max_leaf_nodes=96, min_samples_split=2;, score=0.769 total time=   0.0s\n",
      "[CV 2/5] END max_leaf_nodes=96, min_samples_split=2;, score=0.676 total time=   0.0s\n",
      "[CV 3/5] END max_leaf_nodes=96, min_samples_split=2;, score=0.729 total time=   0.0s\n",
      "[CV 4/5] END max_leaf_nodes=96, min_samples_split=2;, score=0.720 total time=   0.0s\n",
      "[CV 5/5] END max_leaf_nodes=96, min_samples_split=2;, score=0.729 total time=   0.0s\n",
      "[CV 1/5] END max_leaf_nodes=12, min_samples_split=4;, score=0.722 total time=   0.0s\n",
      "[CV 2/5] END max_leaf_nodes=12, min_samples_split=4;, score=0.667 total time=   0.0s\n",
      "[CV 3/5] END max_leaf_nodes=12, min_samples_split=4;, score=0.701 total time=   0.0s\n",
      "[CV 4/5] END max_leaf_nodes=12, min_samples_split=4;, score=0.664 total time=   0.0s\n",
      "[CV 5/5] END max_leaf_nodes=12, min_samples_split=4;, score=0.720 total time=   0.0s\n",
      "[CV 1/5] END max_leaf_nodes=92, min_samples_split=2;, score=0.759 total time=   0.0s\n",
      "[CV 2/5] END max_leaf_nodes=92, min_samples_split=2;, score=0.676 total time=   0.0s\n",
      "[CV 3/5] END max_leaf_nodes=92, min_samples_split=2;, score=0.729 total time=   0.0s\n",
      "[CV 4/5] END max_leaf_nodes=92, min_samples_split=2;, score=0.720 total time=   0.0s\n",
      "[CV 5/5] END max_leaf_nodes=92, min_samples_split=2;, score=0.729 total time=   0.0s\n",
      "[CV 1/5] END max_leaf_nodes=5, min_samples_split=4;, score=0.694 total time=   0.0s\n",
      "[CV 2/5] END max_leaf_nodes=5, min_samples_split=4;, score=0.657 total time=   0.0s\n",
      "[CV 3/5] END max_leaf_nodes=5, min_samples_split=4;, score=0.692 total time=   0.0s\n",
      "[CV 4/5] END max_leaf_nodes=5, min_samples_split=4;, score=0.692 total time=   0.0s\n",
      "[CV 5/5] END max_leaf_nodes=5, min_samples_split=4;, score=0.720 total time=   0.0s\n",
      "[CV 1/5] END max_leaf_nodes=16, min_samples_split=2;, score=0.722 total time=   0.0s\n",
      "[CV 2/5] END max_leaf_nodes=16, min_samples_split=2;, score=0.685 total time=   0.0s\n",
      "[CV 3/5] END max_leaf_nodes=16, min_samples_split=2;, score=0.720 total time=   0.0s\n",
      "[CV 4/5] END max_leaf_nodes=16, min_samples_split=2;, score=0.673 total time=   0.0s\n",
      "[CV 5/5] END max_leaf_nodes=16, min_samples_split=2;, score=0.766 total time=   0.0s\n",
      "[CV 1/5] END max_leaf_nodes=41, min_samples_split=4;, score=0.722 total time=   0.0s\n",
      "[CV 2/5] END max_leaf_nodes=41, min_samples_split=4;, score=0.694 total time=   0.0s\n",
      "[CV 3/5] END max_leaf_nodes=41, min_samples_split=4;, score=0.701 total time=   0.0s\n",
      "[CV 4/5] END max_leaf_nodes=41, min_samples_split=4;, score=0.720 total time=   0.0s\n",
      "[CV 5/5] END max_leaf_nodes=41, min_samples_split=4;, score=0.757 total time=   0.0s\n",
      "[CV 1/5] END max_leaf_nodes=60, min_samples_split=3;, score=0.722 total time=   0.0s\n",
      "[CV 2/5] END max_leaf_nodes=60, min_samples_split=3;, score=0.657 total time=   0.0s\n",
      "[CV 3/5] END max_leaf_nodes=60, min_samples_split=3;, score=0.720 total time=   0.0s\n",
      "[CV 4/5] END max_leaf_nodes=60, min_samples_split=3;, score=0.682 total time=   0.0s\n",
      "[CV 5/5] END max_leaf_nodes=60, min_samples_split=3;, score=0.766 total time=   0.0s\n",
      "[CV 1/5] END max_leaf_nodes=29, min_samples_split=3;, score=0.731 total time=   0.0s\n",
      "[CV 2/5] END max_leaf_nodes=29, min_samples_split=3;, score=0.676 total time=   0.0s\n",
      "[CV 3/5] END max_leaf_nodes=29, min_samples_split=3;, score=0.720 total time=   0.0s\n",
      "[CV 4/5] END max_leaf_nodes=29, min_samples_split=3;, score=0.673 total time=   0.0s\n",
      "[CV 5/5] END max_leaf_nodes=29, min_samples_split=3;, score=0.776 total time=   0.0s\n",
      "[CV 1/5] END max_leaf_nodes=88, min_samples_split=2;, score=0.769 total time=   0.0s\n",
      "[CV 2/5] END max_leaf_nodes=88, min_samples_split=2;, score=0.676 total time=   0.0s\n",
      "[CV 3/5] END max_leaf_nodes=88, min_samples_split=2;, score=0.729 total time=   0.0s\n",
      "[CV 4/5] END max_leaf_nodes=88, min_samples_split=2;, score=0.720 total time=   0.0s\n",
      "[CV 5/5] END max_leaf_nodes=88, min_samples_split=2;, score=0.729 total time=   0.0s\n",
      "[CV 1/5] END max_leaf_nodes=86, min_samples_split=3;, score=0.722 total time=   0.0s\n",
      "[CV 2/5] END max_leaf_nodes=86, min_samples_split=3;, score=0.648 total time=   0.0s\n",
      "[CV 3/5] END max_leaf_nodes=86, min_samples_split=3;, score=0.710 total time=   0.0s\n",
      "[CV 4/5] END max_leaf_nodes=86, min_samples_split=3;, score=0.617 total time=   0.0s\n",
      "[CV 5/5] END max_leaf_nodes=86, min_samples_split=3;, score=0.757 total time=   0.0s\n"
     ]
    }
   ],
   "source": [
    "# Fit grid search\n",
    "\n",
    "best_parameters_2 = rs2_18.fit(X_train_kareem, y_train_kareem)"
   ]
  },
  {
   "cell_type": "code",
   "execution_count": 44,
   "id": "6aaf85d8",
   "metadata": {},
   "outputs": [
    {
     "name": "stdout",
     "output_type": "stream",
     "text": [
      "{'ccp_alpha': 0.0, 'class_weight': None, 'criterion': 'gini', 'max_depth': None, 'max_features': 'auto', 'max_leaf_nodes': 96, 'min_impurity_decrease': 0.0, 'min_samples_leaf': 1, 'min_samples_split': 2, 'min_weight_fraction_leaf': 0.0, 'random_state': 42, 'splitter': 'random'}\n",
      "\n",
      "\n",
      "The mean accuracy of Extra Tree Classifier is: 0.7056277056277056\n"
     ]
    }
   ],
   "source": [
    "# Accuracy score for randomized grid search \n",
    "\n",
    "print(best_parameters_2.best_estimator_.get_params())\n",
    "\n",
    "print('\\n')\n",
    "\n",
    "print(\"The mean accuracy of Extra Tree Classifier is:\",best_parameters_2.score(X_test_kareem, y_test_kareem))"
   ]
  },
  {
   "cell_type": "markdown",
   "id": "341be08b",
   "metadata": {},
   "source": [
    "### Decision Tree Classifier"
   ]
  },
  {
   "cell_type": "code",
   "execution_count": 45,
   "id": "62991d20",
   "metadata": {},
   "outputs": [],
   "source": [
    "# Random search grid\n",
    "\n",
    "# dt_clf_K = DecisionTreeClassifier(max_depth=3, criterion = 'entropy', random_state=42)\n",
    "\n",
    "rs_18_3 = RandomizedSearchCV(dt_clf_K, param_grid_18_1, refit=True, verbose=3, scoring='accuracy')"
   ]
  },
  {
   "cell_type": "code",
   "execution_count": 46,
   "id": "900a8ba5",
   "metadata": {},
   "outputs": [
    {
     "name": "stdout",
     "output_type": "stream",
     "text": [
      "Fitting 5 folds for each of 10 candidates, totalling 50 fits\n",
      "[CV 1/5] END max_leaf_nodes=12, min_samples_split=4;, score=0.750 total time=   0.0s\n",
      "[CV 2/5] END max_leaf_nodes=12, min_samples_split=4;, score=0.713 total time=   0.0s\n",
      "[CV 3/5] END max_leaf_nodes=12, min_samples_split=4;, score=0.813 total time=   0.0s\n",
      "[CV 4/5] END max_leaf_nodes=12, min_samples_split=4;, score=0.720 total time=   0.0s\n",
      "[CV 5/5] END max_leaf_nodes=12, min_samples_split=4;, score=0.738 total time=   0.0s\n",
      "[CV 1/5] END max_leaf_nodes=34, min_samples_split=3;, score=0.750 total time=   0.0s\n",
      "[CV 2/5] END max_leaf_nodes=34, min_samples_split=3;, score=0.713 total time=   0.0s\n",
      "[CV 3/5] END max_leaf_nodes=34, min_samples_split=3;, score=0.813 total time=   0.0s\n",
      "[CV 4/5] END max_leaf_nodes=34, min_samples_split=3;, score=0.720 total time=   0.0s\n",
      "[CV 5/5] END max_leaf_nodes=34, min_samples_split=3;, score=0.738 total time=   0.0s\n",
      "[CV 1/5] END max_leaf_nodes=76, min_samples_split=4;, score=0.750 total time=   0.0s\n",
      "[CV 2/5] END max_leaf_nodes=76, min_samples_split=4;, score=0.713 total time=   0.0s\n",
      "[CV 3/5] END max_leaf_nodes=76, min_samples_split=4;, score=0.813 total time=   0.0s\n",
      "[CV 4/5] END max_leaf_nodes=76, min_samples_split=4;, score=0.720 total time=   0.0s\n",
      "[CV 5/5] END max_leaf_nodes=76, min_samples_split=4;, score=0.738 total time=   0.0s\n",
      "[CV 1/5] END max_leaf_nodes=25, min_samples_split=3;, score=0.750 total time=   0.0s\n",
      "[CV 2/5] END max_leaf_nodes=25, min_samples_split=3;, score=0.713 total time=   0.0s\n",
      "[CV 3/5] END max_leaf_nodes=25, min_samples_split=3;, score=0.813 total time=   0.0s\n",
      "[CV 4/5] END max_leaf_nodes=25, min_samples_split=3;, score=0.720 total time=   0.0s\n",
      "[CV 5/5] END max_leaf_nodes=25, min_samples_split=3;, score=0.738 total time=   0.0s\n",
      "[CV 1/5] END max_leaf_nodes=62, min_samples_split=3;, score=0.750 total time=   0.0s\n",
      "[CV 2/5] END max_leaf_nodes=62, min_samples_split=3;, score=0.713 total time=   0.0s\n",
      "[CV 3/5] END max_leaf_nodes=62, min_samples_split=3;, score=0.813 total time=   0.0s\n",
      "[CV 4/5] END max_leaf_nodes=62, min_samples_split=3;, score=0.720 total time=   0.0s\n",
      "[CV 5/5] END max_leaf_nodes=62, min_samples_split=3;, score=0.738 total time=   0.0s\n",
      "[CV 1/5] END max_leaf_nodes=52, min_samples_split=2;, score=0.750 total time=   0.0s\n",
      "[CV 2/5] END max_leaf_nodes=52, min_samples_split=2;, score=0.713 total time=   0.0s\n",
      "[CV 3/5] END max_leaf_nodes=52, min_samples_split=2;, score=0.813 total time=   0.0s\n",
      "[CV 4/5] END max_leaf_nodes=52, min_samples_split=2;, score=0.720 total time=   0.0s\n",
      "[CV 5/5] END max_leaf_nodes=52, min_samples_split=2;, score=0.738 total time=   0.0s\n",
      "[CV 1/5] END max_leaf_nodes=12, min_samples_split=2;, score=0.750 total time=   0.0s\n",
      "[CV 2/5] END max_leaf_nodes=12, min_samples_split=2;, score=0.713 total time=   0.0s\n",
      "[CV 3/5] END max_leaf_nodes=12, min_samples_split=2;, score=0.813 total time=   0.0s\n",
      "[CV 4/5] END max_leaf_nodes=12, min_samples_split=2;, score=0.720 total time=   0.0s\n",
      "[CV 5/5] END max_leaf_nodes=12, min_samples_split=2;, score=0.738 total time=   0.0s\n",
      "[CV 1/5] END max_leaf_nodes=89, min_samples_split=2;, score=0.750 total time=   0.0s\n",
      "[CV 2/5] END max_leaf_nodes=89, min_samples_split=2;, score=0.713 total time=   0.0s\n",
      "[CV 3/5] END max_leaf_nodes=89, min_samples_split=2;, score=0.813 total time=   0.0s\n",
      "[CV 4/5] END max_leaf_nodes=89, min_samples_split=2;, score=0.720 total time=   0.0s\n",
      "[CV 5/5] END max_leaf_nodes=89, min_samples_split=2;, score=0.738 total time=   0.0s\n",
      "[CV 1/5] END max_leaf_nodes=9, min_samples_split=2;, score=0.750 total time=   0.0s\n",
      "[CV 2/5] END max_leaf_nodes=9, min_samples_split=2;, score=0.713 total time=   0.0s\n",
      "[CV 3/5] END max_leaf_nodes=9, min_samples_split=2;, score=0.813 total time=   0.0s\n",
      "[CV 4/5] END max_leaf_nodes=9, min_samples_split=2;, score=0.720 total time=   0.0s\n",
      "[CV 5/5] END max_leaf_nodes=9, min_samples_split=2;, score=0.738 total time=   0.0s\n",
      "[CV 1/5] END max_leaf_nodes=60, min_samples_split=3;, score=0.750 total time=   0.0s\n",
      "[CV 2/5] END max_leaf_nodes=60, min_samples_split=3;, score=0.713 total time=   0.0s\n",
      "[CV 3/5] END max_leaf_nodes=60, min_samples_split=3;, score=0.813 total time=   0.0s\n",
      "[CV 4/5] END max_leaf_nodes=60, min_samples_split=3;, score=0.720 total time=   0.0s\n",
      "[CV 5/5] END max_leaf_nodes=60, min_samples_split=3;, score=0.738 total time=   0.0s\n"
     ]
    }
   ],
   "source": [
    "# Fit grid search\n",
    "\n",
    "best_parameters_3 = rs_18_3.fit(X_train_kareem, y_train_kareem)"
   ]
  },
  {
   "cell_type": "code",
   "execution_count": 47,
   "id": "25dc2cdc",
   "metadata": {},
   "outputs": [
    {
     "name": "stdout",
     "output_type": "stream",
     "text": [
      "{'ccp_alpha': 0.0, 'class_weight': None, 'criterion': 'entropy', 'max_depth': 3, 'max_features': None, 'max_leaf_nodes': 12, 'min_impurity_decrease': 0.0, 'min_samples_leaf': 1, 'min_samples_split': 4, 'min_weight_fraction_leaf': 0.0, 'random_state': 42, 'splitter': 'best'}\n",
      "\n",
      "\n",
      "The mean accuracy of Decision Tree Classifier is: 0.7186147186147186\n"
     ]
    }
   ],
   "source": [
    "# Accuracy score for randomized grid search \n",
    "\n",
    "print(best_parameters_3.best_estimator_.get_params())\n",
    "\n",
    "print('\\n')\n",
    "\n",
    "print(\"The mean accuracy of Decision Tree Classifier is:\",best_parameters_3.score(X_test_kareem, y_test_kareem))"
   ]
  },
  {
   "cell_type": "code",
   "execution_count": 48,
   "id": "8348c0e2",
   "metadata": {},
   "outputs": [],
   "source": [
    "# Predicting the fine tuned model parameters\n",
    "\n",
    "predicted3 = best_parameters.predict(X_test_kareem)\n",
    "report3 = classification_report(y_test_kareem, predicted3)\n",
    "\n",
    "predicted4 = best_parameters_2.predict(X_test_kareem)\n",
    "report4 = classification_report(y_test_kareem, predicted4)\n",
    "\n",
    "predicted5 = best_parameters_3.predict(X_test_kareem)\n",
    "report5 = classification_report(y_test_kareem, predicted5)"
   ]
  },
  {
   "cell_type": "code",
   "execution_count": 49,
   "id": "a18a2ebe",
   "metadata": {},
   "outputs": [
    {
     "name": "stdout",
     "output_type": "stream",
     "text": [
      "The mean accuracy of Random Forest Classifier is: 0.7489177489177489\n",
      "\n",
      "\n",
      "The mean accuracy of Extra Tree Classifier is: 0.7056277056277056\n",
      "\n",
      "\n",
      "The mean accuracy of Decision Tree Classifier is: 0.7186147186147186\n"
     ]
    }
   ],
   "source": [
    "# Comparing the accuracy among different classifiers \n",
    "\n",
    "print(\"The mean accuracy of Random Forest Classifier is:\",best_parameters.score(X_test_kareem, y_test_kareem))\n",
    "print('\\n')\n",
    "print(\"The mean accuracy of Extra Tree Classifier is:\",best_parameters_2.score(X_test_kareem, y_test_kareem))\n",
    "print('\\n')\n",
    "print(\"The mean accuracy of Decision Tree Classifier is:\",best_parameters_3.score(X_test_kareem, y_test_kareem))"
   ]
  },
  {
   "cell_type": "code",
   "execution_count": 50,
   "id": "e97c8363",
   "metadata": {},
   "outputs": [
    {
     "name": "stdout",
     "output_type": "stream",
     "text": [
      "Before fine tuning the model: \n",
      "Classification report of Random Forest: \n",
      "               precision    recall  f1-score   support\n",
      "\n",
      "           0       0.82      0.80      0.81       151\n",
      "           1       0.64      0.66      0.65        80\n",
      "\n",
      "    accuracy                           0.75       231\n",
      "   macro avg       0.73      0.73      0.73       231\n",
      "weighted avg       0.76      0.75      0.75       231\n",
      "\n",
      "\n",
      "\n",
      "Classification report of Extra Tree Classifier: \n",
      "               precision    recall  f1-score   support\n",
      "\n",
      "           0       0.74      0.72      0.73       151\n",
      "           1       0.49      0.53      0.51        80\n",
      "\n",
      "    accuracy                           0.65       231\n",
      "   macro avg       0.62      0.62      0.62       231\n",
      "weighted avg       0.65      0.65      0.65       231\n",
      "\n",
      "\n",
      "\n",
      "\n",
      "\n",
      "After fine tuning the model:\n",
      "Classification report of Random Forest Classifier: \n",
      "               precision    recall  f1-score   support\n",
      "\n",
      "           0       0.81      0.81      0.81       151\n",
      "           1       0.64      0.64      0.64        80\n",
      "\n",
      "    accuracy                           0.75       231\n",
      "   macro avg       0.72      0.72      0.72       231\n",
      "weighted avg       0.75      0.75      0.75       231\n",
      "\n",
      "\n",
      "\n",
      "Classification report of Extra Tree Classifier: \n",
      "               precision    recall  f1-score   support\n",
      "\n",
      "           0       0.72      0.93      0.81       151\n",
      "           1       0.71      0.31      0.43        80\n",
      "\n",
      "    accuracy                           0.72       231\n",
      "   macro avg       0.72      0.62      0.62       231\n",
      "weighted avg       0.72      0.72      0.68       231\n",
      "\n",
      "\n",
      "\n",
      "Classification report of Decision Tree Classifier: \n",
      "               precision    recall  f1-score   support\n",
      "\n",
      "           0       0.75      0.83      0.79       151\n",
      "           1       0.60      0.46      0.52        80\n",
      "\n",
      "    accuracy                           0.71       231\n",
      "   macro avg       0.67      0.65      0.65       231\n",
      "weighted avg       0.69      0.71      0.70       231\n",
      "\n"
     ]
    }
   ],
   "source": [
    "# Comparing the Precision and recall among different classifiers before and after tuning \n",
    "\n",
    "print('Before fine tuning the model: ')\n",
    "print('Classification report of Random Forest:', '\\n', report1)\n",
    "print('\\n')\n",
    "\n",
    "print('Classification report of Extra Tree Classifier:', '\\n',  report2)\n",
    "print('\\n')\n",
    "\n",
    "print('\\n')\n",
    "\n",
    "print('After fine tuning the model:')\n",
    "print('Classification report of Random Forest Classifier:', '\\n',  report3)\n",
    "print('\\n')\n",
    "\n",
    "\n",
    "print('Classification report of Extra Tree Classifier:', '\\n',  report5)\n",
    "print('\\n')\n",
    "\n",
    "\n",
    "print('Classification report of Decision Tree Classifier:', '\\n',  report4)\n",
    "\n"
   ]
  }
 ],
 "metadata": {
  "kernelspec": {
   "display_name": "Python 3 (ipykernel)",
   "language": "python",
   "name": "python3"
  },
  "language_info": {
   "codemirror_mode": {
    "name": "ipython",
    "version": 3
   },
   "file_extension": ".py",
   "mimetype": "text/x-python",
   "name": "python",
   "nbconvert_exporter": "python",
   "pygments_lexer": "ipython3",
   "version": "3.9.7"
  }
 },
 "nbformat": 4,
 "nbformat_minor": 5
}
